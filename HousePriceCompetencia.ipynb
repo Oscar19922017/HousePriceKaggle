{
  "nbformat": 4,
  "nbformat_minor": 0,
  "metadata": {
    "colab": {
      "provenance": [],
      "toc_visible": true,
      "authorship_tag": "ABX9TyNMJy7tXHrsxpCEwfDvPkYz",
      "include_colab_link": true
    },
    "kernelspec": {
      "name": "python3",
      "display_name": "Python 3"
    },
    "language_info": {
      "name": "python"
    }
  },
  "cells": [
    {
      "cell_type": "markdown",
      "metadata": {
        "id": "view-in-github",
        "colab_type": "text"
      },
      "source": [
        "<a href=\"https://colab.research.google.com/github/Oscar19922017/HousePriceKaggle/blob/main/HousePriceCompetencia.ipynb\" target=\"_parent\"><img src=\"https://colab.research.google.com/assets/colab-badge.svg\" alt=\"Open In Colab\"/></a>"
      ]
    },
    {
      "cell_type": "markdown",
      "source": [
        "# **1) Contexto Problema**\n",
        "\n",
        "Pídale a un comprador de vivienda que describa la casa de sus sueños, y probablemente no comenzará con la altura del techo del sótano o la proximidad a un ferrocarril de este a oeste. Pero el conjunto de datos de esta competencia en el patio de recreo demuestra que influye mucho más en las negociaciones de precios que el número de dormitorios o una valla blanca.\n",
        "\n",
        "Con 79 variables explicativas que describen (casi) todos los aspectos de las viviendas residenciales en Ames, Iowa, esta competencia lo desafía a predecir el precio final de cada casa.\n",
        "\n",
        "El conjunto de datos de Ames Vivienda fue compilado por Dean De Cock para su uso en la educación científica de datos. Es una alternativa increíble para los científicos de datos que buscan una versión modernizada y ampliada del conjunto de datos de Boston Housing que se cita a menudo. http://jse.amstat.org/v19n3/decock.pdf"
      ],
      "metadata": {
        "id": "2Y4ZyQEcFVwL"
      }
    },
    {
      "cell_type": "markdown",
      "source": [
        "# **2 Conocimiento de Datos**"
      ],
      "metadata": {
        "id": "BZdL375MHN2g"
      }
    },
    {
      "cell_type": "markdown",
      "source": [
        "## **Librerias**"
      ],
      "metadata": {
        "id": "tjZs4yskHcfz"
      }
    },
    {
      "cell_type": "code",
      "source": [
        "import numpy as np # Calculos Metematicos\n",
        "import pandas as pd # datos\n",
        "import matplotlib.pyplot as plt # Graficos \n",
        "import seaborn as sns # Gráficos Estadisticos"
      ],
      "metadata": {
        "id": "seFiTw6WFbBV"
      },
      "execution_count": 4,
      "outputs": []
    },
    {
      "cell_type": "markdown",
      "source": [
        "## **Descripción de Archivos**\n",
        "\n",
        "* train.csv : el conjunto de entrenamiento\n",
        "* test.csv : el conjunto Activo\n",
        "* data_description.txt : descripción completa de cada columna, originalmente preparada por Dean De Cock pero ligeramente editada para que coincida con los nombres de columna utilizados aquí"
      ],
      "metadata": {
        "id": "HConpehLH3qO"
      }
    },
    {
      "cell_type": "code",
      "source": [
        "# Historia que tenemos\n",
        "df_train=pd.read_csv(\"https://raw.githubusercontent.com/Oscar19922017/HousePriceKaggle/main/train.csv\") # debe tener el precio que vale la casa\n",
        "df_test=pd.read_csv(\"https://raw.githubusercontent.com/Oscar19922017/HousePriceKaggle/main/test.csv\") # No debe tener precios"
      ],
      "metadata": {
        "id": "69YyBMWsH0Gn"
      },
      "execution_count": 11,
      "outputs": []
    },
    {
      "cell_type": "code",
      "source": [
        "## Depuramos Historia\n",
        "df_train.shape"
      ],
      "metadata": {
        "id": "6i3yEyvtJ8mO",
        "colab": {
          "base_uri": "https://localhost:8080/"
        },
        "outputId": "a66b7aee-9b86-4c3c-f17f-660133d0e355"
      },
      "execution_count": 12,
      "outputs": [
        {
          "output_type": "execute_result",
          "data": {
            "text/plain": [
              "(1460, 81)"
            ]
          },
          "metadata": {},
          "execution_count": 12
        }
      ]
    },
    {
      "cell_type": "code",
      "source": [
        "## Test\n",
        "df_test.shape"
      ],
      "metadata": {
        "colab": {
          "base_uri": "https://localhost:8080/"
        },
        "id": "5h36bbCZLeoN",
        "outputId": "63cce582-0068-43e0-a737-85d8b439bfc9"
      },
      "execution_count": 13,
      "outputs": [
        {
          "output_type": "execute_result",
          "data": {
            "text/plain": [
              "(1459, 80)"
            ]
          },
          "metadata": {},
          "execution_count": 13
        }
      ]
    },
    {
      "cell_type": "markdown",
      "source": [
        "## **Diccionario de Variables**\n",
        "\n",
        "Campos de información\n",
        "Aquí hay una versión breve de lo que encontrará en el archivo de descripción de datos.\n",
        "\n",
        "* SalePrice : el precio de venta de la propiedad en dólares. Esta es la variable objetivo que está tratando de predecir.\n",
        "* MSSubClass : la clase de construcción\n",
        "* MSZoning : la clasificación general de zonificación\n",
        "* LotFrontage : pies lineales de calle conectados a la propiedad\n",
        "* LotArea : Tamaño del lote en pies cuadrados\n",
        "* Calle : Tipo de acceso por carretera\n",
        "* Callejón : Tipo de acceso al callejón\n",
        "* LotShape : forma general de la propiedad\n",
        "* LandContour : Planitud de la propiedad\n",
        "* Utilidades : tipo de utilidades disponibles\n",
        "* LotConfig : configuración del lote\n",
        "* LandSlope : Pendiente de la propiedad\n",
        "* Vecindario : ubicaciones físicas dentro de los límites de la ciudad de Ames\n",
        "* Condition1 : Proximidad a la carretera principal o al ferrocarril\n",
        "* Condición 2 : Proximidad a la carretera principal o al ferrocarril (si hay un segundo)\n",
        "* BldgType : Tipo de vivienda\n",
        "* HouseStyle : estilo de vivienda\n",
        "* OverallQual : Material general y calidad de acabado.\n",
        "* OverallCond : Calificación de estado general\n",
        "* Año de construcción: fecha de construcción original\n",
        "* YearRemodAdd : fecha de remodelación\n",
        "* RoofStyle : Tipo de techo\n",
        "* RoofMatl : material del techo\n",
        "* Exterior1st : Revestimiento exterior de la casa\n",
        "* Exterior2nd : Revestimiento exterior de la casa (si hay más de un material)\n",
        "* MasVnrType : tipo de chapa de mampostería\n",
        "* MasVnrArea : Área de revestimiento de mampostería en pies cuadrados\n",
        "* ExterQual : Calidad del material exterior\n",
        "* ExterCond : Estado actual del material en el exterior\n",
        "* Fundación : Tipo de fundación\n",
        "* BsmtQual : Altura del sótano\n",
        "* BsmtCond : Estado general del sótano\n",
        "* BsmtExposure : Paredes de sótano a nivel de jardín o de salida\n",
        "* BsmtFinType1 : Calidad del área terminada del sótano\n",
        "* BsmtFinSF1 : pies cuadrados terminados tipo 1\n",
        "* BsmtFinType2 : Calidad de la segunda área terminada (si está presente)\n",
        "* BsmtFinSF2 : pies cuadrados con acabado tipo 2\n",
        "* BsmtUnfSF : pies cuadrados sin terminar de área del sótano\n",
        "* TotalBsmtSF : Total de pies cuadrados de área del sótano\n",
        "* Calefacción : Tipo de calefacción\n",
        "* Calefacción QC : calidad y estado de la calefacción\n",
        "* CentralAir : aire acondicionado central\n",
        "* Eléctrico : sistema eléctrico\n",
        "* 1stFlrSF : pies cuadrados del primer piso\n",
        "* 2ndFlrSF : pies cuadrados del segundo piso\n",
        "* LowQualFinSF : pies cuadrados con acabado de baja calidad (todos los pisos)\n",
        "* GrLivArea : pies cuadrados de área habitable sobre el nivel (suelo)\n",
        "* BsmtFullBath : Baños completos en el sótano\n",
        "* BsmtHalfBath : Medios baños del sótano\n",
        "* FullBath : baños completos sobre rasante\n",
        "* HalfBath : Medios baños sobre el nivel del suelo\n",
        "* Dormitorio : número de dormitorios sobre el nivel del sótano\n",
        "* Cocina : Número de cocinas\n",
        "* KitchenQual : calidad de la cocina\n",
        "* TotRmsAbvGrd : Total de habitaciones sobre rasante (no incluye baños)\n",
        "* Funcional : clasificación de funcionalidad del hogar\n",
        "* Chimeneas : Número de chimeneas\n",
        "* FireplaceQu : Calidad de chimenea\n",
        "* GarageType : Ubicación del garaje\n",
        "* GarageYrBlt : año en que se construyó el garaje\n",
        "* GarageFinish : Acabado interior del garaje\n",
        "* GarageCars : Tamaño del garaje en capacidad de automóvil\n",
        "* GarageArea : Tamaño del garaje en pies cuadrados\n",
        "* GarageQual : Calidad de garaje\n",
        "* GarageCond : Estado del garaje\n",
        "* PavedDrive : entrada pavimentada\n",
        "* WoodDeckSF : Área de la plataforma de madera en pies cuadrados\n",
        "* OpenPorchSF : Área de porche abierto en pies cuadrados\n",
        "* Porche cerrado : área de porche cerrado en pies cuadrados\n",
        "* 3SsnPorch : área de porche de tres estaciones en pies cuadrados\n",
        "* ScreenPorch : Área del porche de la pantalla en pies cuadrados\n",
        "* PoolArea : Área de la piscina en pies cuadrados\n",
        "* PoolQC : Calidad de la piscina\n",
        "* Valla : calidad de la valla\n",
        "* MiscFeature : característica miscelánea no cubierta en otras categorías\n",
        "* MiscVal : $ Valor de la función miscelánea\n",
        "* MoSold : Mes vendido\n",
        "* YrSold : año vendido\n",
        "* SaleType : Tipo de venta\n",
        "* SaleCondition : Condición de venta"
      ],
      "metadata": {
        "id": "MUs7gKumLqc1"
      }
    },
    {
      "cell_type": "code",
      "source": [],
      "metadata": {
        "id": "5uaqDTAeLjs9"
      },
      "execution_count": null,
      "outputs": []
    }
  ]
}